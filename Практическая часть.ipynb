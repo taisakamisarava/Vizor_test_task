{
 "cells": [
  {
   "cell_type": "code",
   "execution_count": 59,
   "id": "eb332981",
   "metadata": {},
   "outputs": [],
   "source": [
    "import pandas as pd\n",
    "import numpy as np\n",
    "import datetime\n",
    "import matplotlib.pyplot as plt\n",
    "import seaborn as sns"
   ]
  },
  {
   "cell_type": "code",
   "execution_count": 60,
   "id": "2e46da59",
   "metadata": {},
   "outputs": [],
   "source": [
    "install_df = pd.read_csv('cumulative_data.csv',\\\n",
    "                         parse_dates = ['last_session_closed', 'reg_time', 'last_lvl_up_time'])\n",
    "\n",
    "payment_df = pd.read_csv('payment_data.csv', parse_dates = ['time'])\n",
    "\n",
    "quest_df = pd.read_csv('quest_data.csv', parse_dates = ['start_time', 'finish_time'])\n",
    "quest_df['quest_duration'] = quest_df['finish_time'] - quest_df['start_time']"
   ]
  },
  {
   "cell_type": "markdown",
   "id": "03b5d88d",
   "metadata": {},
   "source": [
    "## Анализ missing values, EDA"
   ]
  },
  {
   "cell_type": "markdown",
   "id": "45ac59a2",
   "metadata": {},
   "source": [
    "### install_df"
   ]
  },
  {
   "cell_type": "code",
   "execution_count": 61,
   "id": "b8a96d10",
   "metadata": {},
   "outputs": [
    {
     "data": {
      "text/plain": [
       "user_id                    0\n",
       "reg_time                   0\n",
       "max_duration              43\n",
       "min_duration              43\n",
       "avg_duration              43\n",
       "last_session_closed       43\n",
       "total_payment_PU       30802\n",
       "avg_payment_PPU        30802\n",
       "avg_payment            30802\n",
       "max_lvl                 5569\n",
       "last_lvl_up_time        5569\n",
       "dtype: int64"
      ]
     },
     "execution_count": 61,
     "metadata": {},
     "output_type": "execute_result"
    }
   ],
   "source": [
    "install_df.isna().sum()"
   ]
  },
  {
   "cell_type": "markdown",
   "id": "212b9e31",
   "metadata": {},
   "source": [
    "Для install_df все пропущенные значения могут быть объяснены либо тем, что у пользователя не проставлено время завершения последней сессии, либо тем, что он не платил"
   ]
  },
  {
   "cell_type": "code",
   "execution_count": 62,
   "id": "bb10114a",
   "metadata": {},
   "outputs": [],
   "source": [
    "install_df[['last_session_closed']] = install_df[['last_session_closed']].fillna(0)\n",
    "install_df[['avg_duration']] = install_df[['avg_duration']].fillna(0)\n",
    "install_df[['min_duration']] = install_df[['min_duration']].fillna(0)\n",
    "install_df[['max_duration']] = install_df[['max_duration']].fillna(0)"
   ]
  },
  {
   "cell_type": "code",
   "execution_count": 63,
   "id": "9a11ecb2",
   "metadata": {
    "scrolled": true
   },
   "outputs": [
    {
     "data": {
      "text/html": [
       "<div>\n",
       "<style scoped>\n",
       "    .dataframe tbody tr th:only-of-type {\n",
       "        vertical-align: middle;\n",
       "    }\n",
       "\n",
       "    .dataframe tbody tr th {\n",
       "        vertical-align: top;\n",
       "    }\n",
       "\n",
       "    .dataframe thead th {\n",
       "        text-align: right;\n",
       "    }\n",
       "</style>\n",
       "<table border=\"1\" class=\"dataframe\">\n",
       "  <thead>\n",
       "    <tr style=\"text-align: right;\">\n",
       "      <th></th>\n",
       "      <th>user_id</th>\n",
       "      <th>max_duration</th>\n",
       "      <th>min_duration</th>\n",
       "      <th>avg_duration</th>\n",
       "      <th>total_payment_PU</th>\n",
       "      <th>avg_payment_PPU</th>\n",
       "      <th>avg_payment</th>\n",
       "      <th>max_lvl</th>\n",
       "    </tr>\n",
       "  </thead>\n",
       "  <tbody>\n",
       "    <tr>\n",
       "      <th>count</th>\n",
       "      <td>3.111500e+04</td>\n",
       "      <td>31115.000000</td>\n",
       "      <td>31115.000000</td>\n",
       "      <td>31115.000000</td>\n",
       "      <td>313.000000</td>\n",
       "      <td>313.000000</td>\n",
       "      <td>313.000000</td>\n",
       "      <td>25546.000000</td>\n",
       "    </tr>\n",
       "    <tr>\n",
       "      <th>mean</th>\n",
       "      <td>4.999175e+08</td>\n",
       "      <td>1832.809227</td>\n",
       "      <td>331.096748</td>\n",
       "      <td>718.917585</td>\n",
       "      <td>1.219616</td>\n",
       "      <td>0.375065</td>\n",
       "      <td>0.545342</td>\n",
       "      <td>6.115243</td>\n",
       "    </tr>\n",
       "    <tr>\n",
       "      <th>std</th>\n",
       "      <td>2.877413e+08</td>\n",
       "      <td>2472.641985</td>\n",
       "      <td>603.484108</td>\n",
       "      <td>751.727585</td>\n",
       "      <td>3.101052</td>\n",
       "      <td>0.535537</td>\n",
       "      <td>0.000000</td>\n",
       "      <td>3.309344</td>\n",
       "    </tr>\n",
       "    <tr>\n",
       "      <th>min</th>\n",
       "      <td>4.278000e+04</td>\n",
       "      <td>0.000000</td>\n",
       "      <td>0.000000</td>\n",
       "      <td>0.000000</td>\n",
       "      <td>0.075573</td>\n",
       "      <td>0.075573</td>\n",
       "      <td>0.545342</td>\n",
       "      <td>2.000000</td>\n",
       "    </tr>\n",
       "    <tr>\n",
       "      <th>25%</th>\n",
       "      <td>2.509369e+08</td>\n",
       "      <td>341.914000</td>\n",
       "      <td>39.294000</td>\n",
       "      <td>268.035000</td>\n",
       "      <td>0.151908</td>\n",
       "      <td>0.151908</td>\n",
       "      <td>0.545342</td>\n",
       "      <td>3.000000</td>\n",
       "    </tr>\n",
       "    <tr>\n",
       "      <th>50%</th>\n",
       "      <td>4.986639e+08</td>\n",
       "      <td>1144.052000</td>\n",
       "      <td>123.111000</td>\n",
       "      <td>557.950000</td>\n",
       "      <td>0.304580</td>\n",
       "      <td>0.253690</td>\n",
       "      <td>0.545342</td>\n",
       "      <td>5.000000</td>\n",
       "    </tr>\n",
       "    <tr>\n",
       "      <th>75%</th>\n",
       "      <td>7.488099e+08</td>\n",
       "      <td>2555.329500</td>\n",
       "      <td>371.745500</td>\n",
       "      <td>943.535000</td>\n",
       "      <td>1.065649</td>\n",
       "      <td>0.304580</td>\n",
       "      <td>0.545342</td>\n",
       "      <td>9.000000</td>\n",
       "    </tr>\n",
       "    <tr>\n",
       "      <th>max</th>\n",
       "      <td>9.998623e+08</td>\n",
       "      <td>81915.354000</td>\n",
       "      <td>23526.878000</td>\n",
       "      <td>28782.290000</td>\n",
       "      <td>39.689313</td>\n",
       "      <td>6.614885</td>\n",
       "      <td>0.545342</td>\n",
       "      <td>21.000000</td>\n",
       "    </tr>\n",
       "  </tbody>\n",
       "</table>\n",
       "</div>"
      ],
      "text/plain": [
       "            user_id  max_duration  min_duration  avg_duration  \\\n",
       "count  3.111500e+04  31115.000000  31115.000000  31115.000000   \n",
       "mean   4.999175e+08   1832.809227    331.096748    718.917585   \n",
       "std    2.877413e+08   2472.641985    603.484108    751.727585   \n",
       "min    4.278000e+04      0.000000      0.000000      0.000000   \n",
       "25%    2.509369e+08    341.914000     39.294000    268.035000   \n",
       "50%    4.986639e+08   1144.052000    123.111000    557.950000   \n",
       "75%    7.488099e+08   2555.329500    371.745500    943.535000   \n",
       "max    9.998623e+08  81915.354000  23526.878000  28782.290000   \n",
       "\n",
       "       total_payment_PU  avg_payment_PPU  avg_payment       max_lvl  \n",
       "count        313.000000       313.000000   313.000000  25546.000000  \n",
       "mean           1.219616         0.375065     0.545342      6.115243  \n",
       "std            3.101052         0.535537     0.000000      3.309344  \n",
       "min            0.075573         0.075573     0.545342      2.000000  \n",
       "25%            0.151908         0.151908     0.545342      3.000000  \n",
       "50%            0.304580         0.253690     0.545342      5.000000  \n",
       "75%            1.065649         0.304580     0.545342      9.000000  \n",
       "max           39.689313         6.614885     0.545342     21.000000  "
      ]
     },
     "execution_count": 63,
     "metadata": {},
     "output_type": "execute_result"
    }
   ],
   "source": [
    "install_df.describe()"
   ]
  },
  {
   "cell_type": "code",
   "execution_count": 64,
   "id": "3eaa371c",
   "metadata": {},
   "outputs": [
    {
     "data": {
      "text/plain": [
       "user_id                         int64\n",
       "reg_time               datetime64[ns]\n",
       "max_duration                  float64\n",
       "min_duration                  float64\n",
       "avg_duration                  float64\n",
       "last_session_closed            object\n",
       "total_payment_PU              float64\n",
       "avg_payment_PPU               float64\n",
       "avg_payment                   float64\n",
       "max_lvl                       float64\n",
       "last_lvl_up_time       datetime64[ns]\n",
       "dtype: object"
      ]
     },
     "execution_count": 64,
     "metadata": {},
     "output_type": "execute_result"
    }
   ],
   "source": [
    "install_df.dtypes"
   ]
  },
  {
   "cell_type": "markdown",
   "id": "582679f3",
   "metadata": {},
   "source": [
    "Создадим бинарный флаг last_session_flag, чтобы обозначить тех пользователей, у которых не проставлено время окончания сессии"
   ]
  },
  {
   "cell_type": "code",
   "execution_count": 65,
   "id": "0c7e9868",
   "metadata": {},
   "outputs": [],
   "source": [
    "install_df[\"last_session_flag\"] = (install_df[\"last_session_closed\"] == 0).astype(\"int\")"
   ]
  },
  {
   "cell_type": "code",
   "execution_count": 66,
   "id": "d9f7e815",
   "metadata": {},
   "outputs": [
    {
     "data": {
      "text/plain": [
       "0    31072\n",
       "1       43\n",
       "Name: last_session_flag, dtype: int64"
      ]
     },
     "execution_count": 66,
     "metadata": {},
     "output_type": "execute_result"
    }
   ],
   "source": [
    "install_df[\"last_session_flag\"].value_counts()"
   ]
  },
  {
   "cell_type": "markdown",
   "id": "d1b65850",
   "metadata": {},
   "source": [
    "#### max_lvl"
   ]
  },
  {
   "cell_type": "code",
   "execution_count": 67,
   "id": "9d125d2d",
   "metadata": {},
   "outputs": [
    {
     "data": {
      "image/png": "[encoded data removed]",
      "text/plain": [
       "<Figure size 600x400 with 2 Axes>"
      ]
     },
     "metadata": {},
     "output_type": "display_data"
    }
   ],
   "source": [
    "_, axes = plt.subplots(1, 2, sharey = True, figsize = (6, 4))\n",
    "sns.boxplot(data = install_df[\"max_lvl\"], ax = axes[0])\n",
    "sns.violinplot(data = install_df[\"max_lvl\"], ax = axes[1]);"
   ]
  },
  {
   "cell_type": "markdown",
   "id": "84fe8777",
   "metadata": {},
   "source": [
    "Медианное значение максимального уровня, полученнного в игре равно 5.\n",
    "\n",
    "Интересное наблюдение, что помимо начальных уровней многие игроки дошли до 8 уровня, а затем количество игроков, дошедших до последующих уровней равномерно снижается, доходя до отдельных выбросов к ~20 уровню."
   ]
  },
  {
   "cell_type": "code",
   "execution_count": 68,
   "id": "f4916e72",
   "metadata": {},
   "outputs": [
    {
     "data": {
      "text/plain": [
       "max_lvl  avg_payment_PPU\n",
       "4.0      0.151908           0.500000\n",
       "         0.304580           0.500000\n",
       "5.0      0.304580           0.800000\n",
       "         0.151908           0.200000\n",
       "6.0      0.304580           0.600000\n",
       "                              ...   \n",
       "17.0     0.972519           0.333333\n",
       "18.0     0.304580           1.000000\n",
       "19.0     0.282770           0.500000\n",
       "         1.093384           0.500000\n",
       "20.0     0.550509           1.000000\n",
       "Name: avg_payment_PPU, Length: 115, dtype: float64"
      ]
     },
     "execution_count": 68,
     "metadata": {},
     "output_type": "execute_result"
    }
   ],
   "source": [
    "install_df.groupby('max_lvl')['avg_payment_PPU'].value_counts(normalize = True)"
   ]
  },
  {
   "cell_type": "code",
   "execution_count": 69,
   "id": "4c08979b",
   "metadata": {},
   "outputs": [
    {
     "data": {
      "text/plain": [
       "<AxesSubplot:xlabel='max_lvl'>"
      ]
     },
     "execution_count": 69,
     "metadata": {},
     "output_type": "execute_result"
    },
    {
     "data": {
      "image/png": "[encoded data removed]",
      "text/plain": [
       "<Figure size 640x480 with 1 Axes>"
      ]
     },
     "metadata": {},
     "output_type": "display_data"
    }
   ],
   "source": [
    "install_df.groupby('max_lvl')[['avg_payment_PPU']].mean().plot(kind = 'bar')"
   ]
  },
  {
   "cell_type": "markdown",
   "id": "e15eb103",
   "metadata": {},
   "source": [
    "Когда пользователи платят:\n",
    "\n",
    "На диаграмме видим медиану среднего платежа с платящего пользователя по уровням. "
   ]
  },
  {
   "cell_type": "code",
   "execution_count": 70,
   "id": "a6f5c4c5",
   "metadata": {},
   "outputs": [
    {
     "data": {
      "text/html": [
       "<div>\n",
       "<style scoped>\n",
       "    .dataframe tbody tr th:only-of-type {\n",
       "        vertical-align: middle;\n",
       "    }\n",
       "\n",
       "    .dataframe tbody tr th {\n",
       "        vertical-align: top;\n",
       "    }\n",
       "\n",
       "    .dataframe thead th {\n",
       "        text-align: right;\n",
       "    }\n",
       "</style>\n",
       "<table border=\"1\" class=\"dataframe\">\n",
       "  <thead>\n",
       "    <tr style=\"text-align: right;\">\n",
       "      <th></th>\n",
       "      <th>count</th>\n",
       "      <th>sum</th>\n",
       "    </tr>\n",
       "    <tr>\n",
       "      <th>max_lvl</th>\n",
       "      <th></th>\n",
       "      <th></th>\n",
       "    </tr>\n",
       "  </thead>\n",
       "  <tbody>\n",
       "    <tr>\n",
       "      <th>2.0</th>\n",
       "      <td>0</td>\n",
       "      <td>0.000000</td>\n",
       "    </tr>\n",
       "    <tr>\n",
       "      <th>3.0</th>\n",
       "      <td>0</td>\n",
       "      <td>0.000000</td>\n",
       "    </tr>\n",
       "    <tr>\n",
       "      <th>4.0</th>\n",
       "      <td>2</td>\n",
       "      <td>0.456489</td>\n",
       "    </tr>\n",
       "    <tr>\n",
       "      <th>5.0</th>\n",
       "      <td>5</td>\n",
       "      <td>1.370229</td>\n",
       "    </tr>\n",
       "    <tr>\n",
       "      <th>6.0</th>\n",
       "      <td>5</td>\n",
       "      <td>2.209924</td>\n",
       "    </tr>\n",
       "    <tr>\n",
       "      <th>7.0</th>\n",
       "      <td>11</td>\n",
       "      <td>3.807634</td>\n",
       "    </tr>\n",
       "    <tr>\n",
       "      <th>8.0</th>\n",
       "      <td>51</td>\n",
       "      <td>16.322010</td>\n",
       "    </tr>\n",
       "    <tr>\n",
       "      <th>9.0</th>\n",
       "      <td>59</td>\n",
       "      <td>17.590331</td>\n",
       "    </tr>\n",
       "    <tr>\n",
       "      <th>10.0</th>\n",
       "      <td>49</td>\n",
       "      <td>22.105390</td>\n",
       "    </tr>\n",
       "    <tr>\n",
       "      <th>11.0</th>\n",
       "      <td>37</td>\n",
       "      <td>8.837794</td>\n",
       "    </tr>\n",
       "    <tr>\n",
       "      <th>12.0</th>\n",
       "      <td>36</td>\n",
       "      <td>12.339840</td>\n",
       "    </tr>\n",
       "    <tr>\n",
       "      <th>13.0</th>\n",
       "      <td>21</td>\n",
       "      <td>7.097201</td>\n",
       "    </tr>\n",
       "    <tr>\n",
       "      <th>14.0</th>\n",
       "      <td>18</td>\n",
       "      <td>16.811950</td>\n",
       "    </tr>\n",
       "    <tr>\n",
       "      <th>15.0</th>\n",
       "      <td>5</td>\n",
       "      <td>1.706107</td>\n",
       "    </tr>\n",
       "    <tr>\n",
       "      <th>16.0</th>\n",
       "      <td>7</td>\n",
       "      <td>2.444220</td>\n",
       "    </tr>\n",
       "    <tr>\n",
       "      <th>17.0</th>\n",
       "      <td>3</td>\n",
       "      <td>2.065140</td>\n",
       "    </tr>\n",
       "    <tr>\n",
       "      <th>18.0</th>\n",
       "      <td>1</td>\n",
       "      <td>0.304580</td>\n",
       "    </tr>\n",
       "    <tr>\n",
       "      <th>19.0</th>\n",
       "      <td>2</td>\n",
       "      <td>1.376154</td>\n",
       "    </tr>\n",
       "    <tr>\n",
       "      <th>20.0</th>\n",
       "      <td>1</td>\n",
       "      <td>0.550509</td>\n",
       "    </tr>\n",
       "    <tr>\n",
       "      <th>21.0</th>\n",
       "      <td>0</td>\n",
       "      <td>0.000000</td>\n",
       "    </tr>\n",
       "  </tbody>\n",
       "</table>\n",
       "</div>"
      ],
      "text/plain": [
       "         count        sum\n",
       "max_lvl                  \n",
       "2.0          0   0.000000\n",
       "3.0          0   0.000000\n",
       "4.0          2   0.456489\n",
       "5.0          5   1.370229\n",
       "6.0          5   2.209924\n",
       "7.0         11   3.807634\n",
       "8.0         51  16.322010\n",
       "9.0         59  17.590331\n",
       "10.0        49  22.105390\n",
       "11.0        37   8.837794\n",
       "12.0        36  12.339840\n",
       "13.0        21   7.097201\n",
       "14.0        18  16.811950\n",
       "15.0         5   1.706107\n",
       "16.0         7   2.444220\n",
       "17.0         3   2.065140\n",
       "18.0         1   0.304580\n",
       "19.0         2   1.376154\n",
       "20.0         1   0.550509\n",
       "21.0         0   0.000000"
      ]
     },
     "execution_count": 70,
     "metadata": {},
     "output_type": "execute_result"
    }
   ],
   "source": [
    "install_df.groupby('max_lvl')['avg_payment_PPU'].agg(['count', 'sum'])"
   ]
  },
  {
   "cell_type": "markdown",
   "id": "6af25644",
   "metadata": {},
   "source": [
    "#### time"
   ]
  },
  {
   "cell_type": "code",
   "execution_count": 71,
   "id": "fd99558e",
   "metadata": {},
   "outputs": [
    {
     "data": {
      "image/png": "[encoded data removed]",
      "text/plain": [
       "<Figure size 640x480 with 1 Axes>"
      ]
     },
     "metadata": {},
     "output_type": "display_data"
    }
   ],
   "source": [
    "install_df[\"reg_time\"].dt.date.value_counts().sort_index().plot(kind = 'bar')\n",
    "plt.title('Количество событий пользователей, зарегистрировавшихся в указанный день.')\n",
    "plt.show()"
   ]
  },
  {
   "cell_type": "code",
   "execution_count": 72,
   "id": "71585f63",
   "metadata": {},
   "outputs": [
    {
     "data": {
      "image/png": "[encoded data removed]",
      "text/plain": [
       "<Figure size 640x480 with 1 Axes>"
      ]
     },
     "metadata": {},
     "output_type": "display_data"
    }
   ],
   "source": [
    "install_df[\"last_lvl_up_time\"].dt.date.value_counts().sort_index().plot(kind = 'bar')\n",
    "plt.title('Количество игроков, в последний раз повысивших уровень')\n",
    "plt.show()"
   ]
  },
  {
   "cell_type": "markdown",
   "id": "f55e1ad2",
   "metadata": {},
   "source": [
    "Из графиков можем увидеть, что большое число пользователей совершает последний level_up в ближайшие 3-5 дня с момента установки"
   ]
  },
  {
   "cell_type": "markdown",
   "id": "fed2047e",
   "metadata": {},
   "source": [
    "#### total_payment_PU"
   ]
  },
  {
   "cell_type": "markdown",
   "id": "977b232f",
   "metadata": {},
   "source": [
    "Посмотрим на распределение total_payment_PU\n",
    "\n",
    "Присутствуют выбросы в данных, они закономерны, так как существуют игроки, которые платят больше, но таких немного"
   ]
  },
  {
   "cell_type": "code",
   "execution_count": 73,
   "id": "6e4489c2",
   "metadata": {},
   "outputs": [
    {
     "data": {
      "image/png": "[encoded data removed]",
      "text/plain": [
       "<Figure size 640x480 with 1 Axes>"
      ]
     },
     "metadata": {},
     "output_type": "display_data"
    }
   ],
   "source": [
    "sns.boxplot(install_df.total_payment_PU)\n",
    "plt.show()"
   ]
  },
  {
   "cell_type": "code",
   "execution_count": 74,
   "id": "25ac120c",
   "metadata": {},
   "outputs": [
    {
     "data": {
      "text/plain": [
       "0.075573     42\n",
       "0.151908     96\n",
       "0.304580     55\n",
       "0.380153      2\n",
       "0.456489     13\n",
       "             ..\n",
       "9.909160      1\n",
       "11.748855     1\n",
       "16.093893     1\n",
       "20.593130     1\n",
       "39.689313     1\n",
       "Name: total_payment_PU, Length: 67, dtype: int64"
      ]
     },
     "execution_count": 74,
     "metadata": {},
     "output_type": "execute_result"
    }
   ],
   "source": [
    "install_df.total_payment_PU.value_counts().sort_index()"
   ]
  },
  {
   "cell_type": "markdown",
   "id": "70741100",
   "metadata": {},
   "source": [
    "### payment_df"
   ]
  },
  {
   "cell_type": "code",
   "execution_count": 75,
   "id": "5f7e47b1",
   "metadata": {},
   "outputs": [
    {
     "data": {
      "text/html": [
       "<div>\n",
       "<style scoped>\n",
       "    .dataframe tbody tr th:only-of-type {\n",
       "        vertical-align: middle;\n",
       "    }\n",
       "\n",
       "    .dataframe tbody tr th {\n",
       "        vertical-align: top;\n",
       "    }\n",
       "\n",
       "    .dataframe thead th {\n",
       "        text-align: right;\n",
       "    }\n",
       "</style>\n",
       "<table border=\"1\" class=\"dataframe\">\n",
       "  <thead>\n",
       "    <tr style=\"text-align: right;\">\n",
       "      <th></th>\n",
       "      <th>user_id</th>\n",
       "      <th>time</th>\n",
       "      <th>amount</th>\n",
       "      <th>avg_payment</th>\n",
       "      <th>total_payment_PU</th>\n",
       "      <th>avg_payment_PPU</th>\n",
       "      <th>payment_num</th>\n",
       "      <th>avg_current_payment_diff</th>\n",
       "    </tr>\n",
       "  </thead>\n",
       "  <tbody>\n",
       "    <tr>\n",
       "      <th>0</th>\n",
       "      <td>108116306</td>\n",
       "      <td>2020-10-12 12:56:12.634</td>\n",
       "      <td>0.151908</td>\n",
       "      <td>0.545342</td>\n",
       "      <td>0.151908</td>\n",
       "      <td>0.151908</td>\n",
       "      <td>1</td>\n",
       "      <td>0.000000</td>\n",
       "    </tr>\n",
       "    <tr>\n",
       "      <th>1</th>\n",
       "      <td>110213686</td>\n",
       "      <td>2020-10-14 16:48:43.059</td>\n",
       "      <td>0.304580</td>\n",
       "      <td>0.545342</td>\n",
       "      <td>5.264885</td>\n",
       "      <td>1.754962</td>\n",
       "      <td>1</td>\n",
       "      <td>1.450382</td>\n",
       "    </tr>\n",
       "    <tr>\n",
       "      <th>2</th>\n",
       "      <td>110213686</td>\n",
       "      <td>2020-10-16 04:00:10.547</td>\n",
       "      <td>3.816031</td>\n",
       "      <td>0.545342</td>\n",
       "      <td>5.264885</td>\n",
       "      <td>1.754962</td>\n",
       "      <td>2</td>\n",
       "      <td>-2.061069</td>\n",
       "    </tr>\n",
       "  </tbody>\n",
       "</table>\n",
       "</div>"
      ],
      "text/plain": [
       "     user_id                    time    amount  avg_payment  total_payment_PU  \\\n",
       "0  108116306 2020-10-12 12:56:12.634  0.151908     0.545342          0.151908   \n",
       "1  110213686 2020-10-14 16:48:43.059  0.304580     0.545342          5.264885   \n",
       "2  110213686 2020-10-16 04:00:10.547  3.816031     0.545342          5.264885   \n",
       "\n",
       "   avg_payment_PPU  payment_num  avg_current_payment_diff  \n",
       "0         0.151908            1                  0.000000  \n",
       "1         1.754962            1                  1.450382  \n",
       "2         1.754962            2                 -2.061069  "
      ]
     },
     "execution_count": 75,
     "metadata": {},
     "output_type": "execute_result"
    }
   ],
   "source": [
    "payment_df.head(3)"
   ]
  },
  {
   "cell_type": "code",
   "execution_count": 76,
   "id": "fd5edd22",
   "metadata": {},
   "outputs": [
    {
     "data": {
      "text/plain": [
       "user_id                     0\n",
       "time                        0\n",
       "amount                      0\n",
       "avg_payment                 0\n",
       "total_payment_PU            0\n",
       "avg_payment_PPU             0\n",
       "payment_num                 0\n",
       "avg_current_payment_diff    0\n",
       "dtype: int64"
      ]
     },
     "execution_count": 76,
     "metadata": {},
     "output_type": "execute_result"
    }
   ],
   "source": [
    "payment_df.isna().sum()"
   ]
  },
  {
   "cell_type": "code",
   "execution_count": 77,
   "id": "d92e272e",
   "metadata": {},
   "outputs": [
    {
     "data": {
      "text/html": [
       "<div>\n",
       "<style scoped>\n",
       "    .dataframe tbody tr th:only-of-type {\n",
       "        vertical-align: middle;\n",
       "    }\n",
       "\n",
       "    .dataframe tbody tr th {\n",
       "        vertical-align: top;\n",
       "    }\n",
       "\n",
       "    .dataframe thead th {\n",
       "        text-align: right;\n",
       "    }\n",
       "</style>\n",
       "<table border=\"1\" class=\"dataframe\">\n",
       "  <thead>\n",
       "    <tr style=\"text-align: right;\">\n",
       "      <th></th>\n",
       "      <th>user_id</th>\n",
       "      <th>amount</th>\n",
       "      <th>avg_payment</th>\n",
       "      <th>total_payment_PU</th>\n",
       "      <th>avg_payment_PPU</th>\n",
       "      <th>payment_num</th>\n",
       "      <th>avg_current_payment_diff</th>\n",
       "    </tr>\n",
       "  </thead>\n",
       "  <tbody>\n",
       "    <tr>\n",
       "      <th>count</th>\n",
       "      <td>7.000000e+02</td>\n",
       "      <td>700.000000</td>\n",
       "      <td>7.000000e+02</td>\n",
       "      <td>700.000000</td>\n",
       "      <td>700.000000</td>\n",
       "      <td>700.000000</td>\n",
       "      <td>7.000000e+02</td>\n",
       "    </tr>\n",
       "    <tr>\n",
       "      <th>mean</th>\n",
       "      <td>5.698456e+08</td>\n",
       "      <td>0.545342</td>\n",
       "      <td>5.453424e-01</td>\n",
       "      <td>3.558190</td>\n",
       "      <td>0.545342</td>\n",
       "      <td>3.400000</td>\n",
       "      <td>3.370320e-17</td>\n",
       "    </tr>\n",
       "    <tr>\n",
       "      <th>std</th>\n",
       "      <td>2.876664e+08</td>\n",
       "      <td>0.793694</td>\n",
       "      <td>1.111017e-16</td>\n",
       "      <td>5.364546</td>\n",
       "      <td>0.713233</td>\n",
       "      <td>3.839409</td>\n",
       "      <td>3.482080e-01</td>\n",
       "    </tr>\n",
       "    <tr>\n",
       "      <th>min</th>\n",
       "      <td>5.688706e+06</td>\n",
       "      <td>0.075573</td>\n",
       "      <td>5.453424e-01</td>\n",
       "      <td>0.075573</td>\n",
       "      <td>0.075573</td>\n",
       "      <td>1.000000</td>\n",
       "      <td>-2.238677e+00</td>\n",
       "    </tr>\n",
       "    <tr>\n",
       "      <th>25%</th>\n",
       "      <td>3.576656e+08</td>\n",
       "      <td>0.151908</td>\n",
       "      <td>5.453424e-01</td>\n",
       "      <td>0.304580</td>\n",
       "      <td>0.253690</td>\n",
       "      <td>1.000000</td>\n",
       "      <td>-3.053435e-02</td>\n",
       "    </tr>\n",
       "    <tr>\n",
       "      <th>50%</th>\n",
       "      <td>5.999473e+08</td>\n",
       "      <td>0.304580</td>\n",
       "      <td>5.453424e-01</td>\n",
       "      <td>1.522901</td>\n",
       "      <td>0.304580</td>\n",
       "      <td>2.000000</td>\n",
       "      <td>0.000000e+00</td>\n",
       "    </tr>\n",
       "    <tr>\n",
       "      <th>75%</th>\n",
       "      <td>8.190286e+08</td>\n",
       "      <td>0.762595</td>\n",
       "      <td>5.453424e-01</td>\n",
       "      <td>4.873282</td>\n",
       "      <td>0.642366</td>\n",
       "      <td>4.000000</td>\n",
       "      <td>5.089059e-02</td>\n",
       "    </tr>\n",
       "    <tr>\n",
       "      <th>max</th>\n",
       "      <td>9.977217e+08</td>\n",
       "      <td>7.632824</td>\n",
       "      <td>5.453424e-01</td>\n",
       "      <td>39.689313</td>\n",
       "      <td>6.614885</td>\n",
       "      <td>24.000000</td>\n",
       "      <td>2.951399e+00</td>\n",
       "    </tr>\n",
       "  </tbody>\n",
       "</table>\n",
       "</div>"
      ],
      "text/plain": [
       "            user_id      amount   avg_payment  total_payment_PU  \\\n",
       "count  7.000000e+02  700.000000  7.000000e+02        700.000000   \n",
       "mean   5.698456e+08    0.545342  5.453424e-01          3.558190   \n",
       "std    2.876664e+08    0.793694  1.111017e-16          5.364546   \n",
       "min    5.688706e+06    0.075573  5.453424e-01          0.075573   \n",
       "25%    3.576656e+08    0.151908  5.453424e-01          0.304580   \n",
       "50%    5.999473e+08    0.304580  5.453424e-01          1.522901   \n",
       "75%    8.190286e+08    0.762595  5.453424e-01          4.873282   \n",
       "max    9.977217e+08    7.632824  5.453424e-01         39.689313   \n",
       "\n",
       "       avg_payment_PPU  payment_num  avg_current_payment_diff  \n",
       "count       700.000000   700.000000              7.000000e+02  \n",
       "mean          0.545342     3.400000              3.370320e-17  \n",
       "std           0.713233     3.839409              3.482080e-01  \n",
       "min           0.075573     1.000000             -2.238677e+00  \n",
       "25%           0.253690     1.000000             -3.053435e-02  \n",
       "50%           0.304580     2.000000              0.000000e+00  \n",
       "75%           0.642366     4.000000              5.089059e-02  \n",
       "max           6.614885    24.000000              2.951399e+00  "
      ]
     },
     "execution_count": 77,
     "metadata": {},
     "output_type": "execute_result"
    }
   ],
   "source": [
    "payment_df.describe()"
   ]
  },
  {
   "cell_type": "markdown",
   "id": "e17cdea5",
   "metadata": {},
   "source": [
    "Данные по переменной avg_payment_PPU (средний чек с платящего пользователя) вероятнее всего будут иметь положительную асимметрию и длинный хвост (min = 0.075573, mean = 0.545342, max = 6.614885)\n",
    "\n",
    "Для total_payment_PU (суммарный чек с игрока) будет наблюдатьс примерно такая же картина (min = 0.075573, mean = 3.558190, max = 39.689313, 75% перцентиль = 4.873282)"
   ]
  },
  {
   "cell_type": "code",
   "execution_count": 78,
   "id": "9da820d4",
   "metadata": {},
   "outputs": [
    {
     "data": {
      "text/plain": [
       "user_id                              int64\n",
       "time                        datetime64[ns]\n",
       "amount                             float64\n",
       "avg_payment                        float64\n",
       "total_payment_PU                   float64\n",
       "avg_payment_PPU                    float64\n",
       "payment_num                          int64\n",
       "avg_current_payment_diff           float64\n",
       "dtype: object"
      ]
     },
     "execution_count": 78,
     "metadata": {},
     "output_type": "execute_result"
    }
   ],
   "source": [
    "payment_df.dtypes"
   ]
  },
  {
   "cell_type": "code",
   "execution_count": 79,
   "id": "95bf100d",
   "metadata": {},
   "outputs": [],
   "source": [
    "# разница во времени между платежами\n",
    "def calculate_payment_diff(df):\n",
    "    df = df.sort_values(['user_id', 'payment_num'])\n",
    "    df['payment_time_diff'] = df.groupby('user_id')['time'].diff(1)\n",
    "    \n",
    "    \n",
    "    return df"
   ]
  },
  {
   "cell_type": "code",
   "execution_count": 80,
   "id": "134184d2",
   "metadata": {},
   "outputs": [
    {
     "data": {
      "text/html": [
       "<div>\n",
       "<style scoped>\n",
       "    .dataframe tbody tr th:only-of-type {\n",
       "        vertical-align: middle;\n",
       "    }\n",
       "\n",
       "    .dataframe tbody tr th {\n",
       "        vertical-align: top;\n",
       "    }\n",
       "\n",
       "    .dataframe thead th {\n",
       "        text-align: right;\n",
       "    }\n",
       "</style>\n",
       "<table border=\"1\" class=\"dataframe\">\n",
       "  <thead>\n",
       "    <tr style=\"text-align: right;\">\n",
       "      <th></th>\n",
       "      <th>user_id</th>\n",
       "      <th>time</th>\n",
       "      <th>amount</th>\n",
       "      <th>avg_payment</th>\n",
       "      <th>total_payment_PU</th>\n",
       "      <th>avg_payment_PPU</th>\n",
       "      <th>payment_num</th>\n",
       "      <th>avg_current_payment_diff</th>\n",
       "      <th>payment_time_diff</th>\n",
       "    </tr>\n",
       "  </thead>\n",
       "  <tbody>\n",
       "    <tr>\n",
       "      <th>301</th>\n",
       "      <td>5688706</td>\n",
       "      <td>2020-10-17 13:43:32.685</td>\n",
       "      <td>0.304580</td>\n",
       "      <td>0.545342</td>\n",
       "      <td>0.913740</td>\n",
       "      <td>0.304580</td>\n",
       "      <td>1</td>\n",
       "      <td>0.000000</td>\n",
       "      <td>NaT</td>\n",
       "    </tr>\n",
       "    <tr>\n",
       "      <th>302</th>\n",
       "      <td>5688706</td>\n",
       "      <td>2020-10-18 03:10:27.349</td>\n",
       "      <td>0.304580</td>\n",
       "      <td>0.545342</td>\n",
       "      <td>0.913740</td>\n",
       "      <td>0.304580</td>\n",
       "      <td>2</td>\n",
       "      <td>0.000000</td>\n",
       "      <td>0 days 13:26:54.664000</td>\n",
       "    </tr>\n",
       "    <tr>\n",
       "      <th>303</th>\n",
       "      <td>5688706</td>\n",
       "      <td>2020-10-19 01:14:09.993</td>\n",
       "      <td>0.304580</td>\n",
       "      <td>0.545342</td>\n",
       "      <td>0.913740</td>\n",
       "      <td>0.304580</td>\n",
       "      <td>3</td>\n",
       "      <td>0.000000</td>\n",
       "      <td>0 days 22:03:42.644000</td>\n",
       "    </tr>\n",
       "    <tr>\n",
       "      <th>7</th>\n",
       "      <td>11578082</td>\n",
       "      <td>2020-10-11 06:55:04.243</td>\n",
       "      <td>0.304580</td>\n",
       "      <td>0.545342</td>\n",
       "      <td>0.304580</td>\n",
       "      <td>0.304580</td>\n",
       "      <td>1</td>\n",
       "      <td>0.000000</td>\n",
       "      <td>NaT</td>\n",
       "    </tr>\n",
       "    <tr>\n",
       "      <th>11</th>\n",
       "      <td>12208022</td>\n",
       "      <td>2020-10-13 09:45:11.970</td>\n",
       "      <td>0.151908</td>\n",
       "      <td>0.545342</td>\n",
       "      <td>2.058779</td>\n",
       "      <td>0.686260</td>\n",
       "      <td>1</td>\n",
       "      <td>0.534351</td>\n",
       "      <td>NaT</td>\n",
       "    </tr>\n",
       "    <tr>\n",
       "      <th>...</th>\n",
       "      <td>...</td>\n",
       "      <td>...</td>\n",
       "      <td>...</td>\n",
       "      <td>...</td>\n",
       "      <td>...</td>\n",
       "      <td>...</td>\n",
       "      <td>...</td>\n",
       "      <td>...</td>\n",
       "      <td>...</td>\n",
       "    </tr>\n",
       "    <tr>\n",
       "      <th>695</th>\n",
       "      <td>987375864</td>\n",
       "      <td>2020-10-14 09:47:55.399</td>\n",
       "      <td>0.075573</td>\n",
       "      <td>0.545342</td>\n",
       "      <td>0.075573</td>\n",
       "      <td>0.075573</td>\n",
       "      <td>1</td>\n",
       "      <td>0.000000</td>\n",
       "      <td>NaT</td>\n",
       "    </tr>\n",
       "    <tr>\n",
       "      <th>696</th>\n",
       "      <td>993353406</td>\n",
       "      <td>2020-10-18 20:45:31.362</td>\n",
       "      <td>0.304580</td>\n",
       "      <td>0.545342</td>\n",
       "      <td>0.609160</td>\n",
       "      <td>0.304580</td>\n",
       "      <td>1</td>\n",
       "      <td>0.000000</td>\n",
       "      <td>NaT</td>\n",
       "    </tr>\n",
       "    <tr>\n",
       "      <th>697</th>\n",
       "      <td>993353406</td>\n",
       "      <td>2020-10-18 21:09:18.642</td>\n",
       "      <td>0.304580</td>\n",
       "      <td>0.545342</td>\n",
       "      <td>0.609160</td>\n",
       "      <td>0.304580</td>\n",
       "      <td>2</td>\n",
       "      <td>0.000000</td>\n",
       "      <td>0 days 00:23:47.280000</td>\n",
       "    </tr>\n",
       "    <tr>\n",
       "      <th>698</th>\n",
       "      <td>993799116</td>\n",
       "      <td>2020-10-13 13:24:41.889</td>\n",
       "      <td>0.075573</td>\n",
       "      <td>0.545342</td>\n",
       "      <td>0.075573</td>\n",
       "      <td>0.075573</td>\n",
       "      <td>1</td>\n",
       "      <td>0.000000</td>\n",
       "      <td>NaT</td>\n",
       "    </tr>\n",
       "    <tr>\n",
       "      <th>699</th>\n",
       "      <td>997721742</td>\n",
       "      <td>2020-10-12 21:28:57.195</td>\n",
       "      <td>0.151908</td>\n",
       "      <td>0.545342</td>\n",
       "      <td>0.151908</td>\n",
       "      <td>0.151908</td>\n",
       "      <td>1</td>\n",
       "      <td>0.000000</td>\n",
       "      <td>NaT</td>\n",
       "    </tr>\n",
       "  </tbody>\n",
       "</table>\n",
       "<p>700 rows × 9 columns</p>\n",
       "</div>"
      ],
      "text/plain": [
       "       user_id                    time    amount  avg_payment  \\\n",
       "301    5688706 2020-10-17 13:43:32.685  0.304580     0.545342   \n",
       "302    5688706 2020-10-18 03:10:27.349  0.304580     0.545342   \n",
       "303    5688706 2020-10-19 01:14:09.993  0.304580     0.545342   \n",
       "7     11578082 2020-10-11 06:55:04.243  0.304580     0.545342   \n",
       "11    12208022 2020-10-13 09:45:11.970  0.151908     0.545342   \n",
       "..         ...                     ...       ...          ...   \n",
       "695  987375864 2020-10-14 09:47:55.399  0.075573     0.545342   \n",
       "696  993353406 2020-10-18 20:45:31.362  0.304580     0.545342   \n",
       "697  993353406 2020-10-18 21:09:18.642  0.304580     0.545342   \n",
       "698  993799116 2020-10-13 13:24:41.889  0.075573     0.545342   \n",
       "699  997721742 2020-10-12 21:28:57.195  0.151908     0.545342   \n",
       "\n",
       "     total_payment_PU  avg_payment_PPU  payment_num  avg_current_payment_diff  \\\n",
       "301          0.913740         0.304580            1                  0.000000   \n",
       "302          0.913740         0.304580            2                  0.000000   \n",
       "303          0.913740         0.304580            3                  0.000000   \n",
       "7            0.304580         0.304580            1                  0.000000   \n",
       "11           2.058779         0.686260            1                  0.534351   \n",
       "..                ...              ...          ...                       ...   \n",
       "695          0.075573         0.075573            1                  0.000000   \n",
       "696          0.609160         0.304580            1                  0.000000   \n",
       "697          0.609160         0.304580            2                  0.000000   \n",
       "698          0.075573         0.075573            1                  0.000000   \n",
       "699          0.151908         0.151908            1                  0.000000   \n",
       "\n",
       "         payment_time_diff  \n",
       "301                    NaT  \n",
       "302 0 days 13:26:54.664000  \n",
       "303 0 days 22:03:42.644000  \n",
       "7                      NaT  \n",
       "11                     NaT  \n",
       "..                     ...  \n",
       "695                    NaT  \n",
       "696                    NaT  \n",
       "697 0 days 00:23:47.280000  \n",
       "698                    NaT  \n",
       "699                    NaT  \n",
       "\n",
       "[700 rows x 9 columns]"
      ]
     },
     "execution_count": 80,
     "metadata": {},
     "output_type": "execute_result"
    }
   ],
   "source": [
    "calculate_payment_diff(payment_df)"
   ]
  },
  {
   "cell_type": "code",
   "execution_count": 81,
   "id": "bb9c8a1d",
   "metadata": {},
   "outputs": [
    {
     "data": {
      "image/png": "[encoded data removed]",
      "text/plain": [
       "<Figure size 640x480 with 1 Axes>"
      ]
     },
     "metadata": {},
     "output_type": "display_data"
    }
   ],
   "source": [
    "sns.boxplot(payment_df.payment_num)\n",
    "plt.show()"
   ]
  },
  {
   "cell_type": "markdown",
   "id": "8e8bb03e",
   "metadata": {},
   "source": [
    "Чаще всего количество платежей игрока принадлежит [0;4]"
   ]
  },
  {
   "cell_type": "markdown",
   "id": "d05799c2",
   "metadata": {},
   "source": [
    "### quest_df"
   ]
  },
  {
   "cell_type": "code",
   "execution_count": 82,
   "id": "ccb9c4b5",
   "metadata": {},
   "outputs": [
    {
     "data": {
      "text/html": [
       "<div>\n",
       "<style scoped>\n",
       "    .dataframe tbody tr th:only-of-type {\n",
       "        vertical-align: middle;\n",
       "    }\n",
       "\n",
       "    .dataframe tbody tr th {\n",
       "        vertical-align: top;\n",
       "    }\n",
       "\n",
       "    .dataframe thead th {\n",
       "        text-align: right;\n",
       "    }\n",
       "</style>\n",
       "<table border=\"1\" class=\"dataframe\">\n",
       "  <thead>\n",
       "    <tr style=\"text-align: right;\">\n",
       "      <th></th>\n",
       "      <th>user_id</th>\n",
       "      <th>start_time</th>\n",
       "      <th>finish_time</th>\n",
       "      <th>quest_num</th>\n",
       "      <th>quest_duration</th>\n",
       "    </tr>\n",
       "  </thead>\n",
       "  <tbody>\n",
       "    <tr>\n",
       "      <th>0</th>\n",
       "      <td>100052283</td>\n",
       "      <td>2020-10-11 08:04:05.260004</td>\n",
       "      <td>2020-10-11 08:04:45.242002</td>\n",
       "      <td>1</td>\n",
       "      <td>0 days 00:00:39.981998</td>\n",
       "    </tr>\n",
       "    <tr>\n",
       "      <th>1</th>\n",
       "      <td>100052283</td>\n",
       "      <td>2020-10-11 08:04:45.242001</td>\n",
       "      <td>2020-10-11 08:05:25.770000</td>\n",
       "      <td>2</td>\n",
       "      <td>0 days 00:00:40.527999</td>\n",
       "    </tr>\n",
       "    <tr>\n",
       "      <th>2</th>\n",
       "      <td>100052283</td>\n",
       "      <td>2020-10-11 08:05:51.739001</td>\n",
       "      <td>2020-10-11 08:05:59.267001</td>\n",
       "      <td>3</td>\n",
       "      <td>0 days 00:00:07.528000</td>\n",
       "    </tr>\n",
       "  </tbody>\n",
       "</table>\n",
       "</div>"
      ],
      "text/plain": [
       "     user_id                 start_time                finish_time  quest_num  \\\n",
       "0  100052283 2020-10-11 08:04:05.260004 2020-10-11 08:04:45.242002          1   \n",
       "1  100052283 2020-10-11 08:04:45.242001 2020-10-11 08:05:25.770000          2   \n",
       "2  100052283 2020-10-11 08:05:51.739001 2020-10-11 08:05:59.267001          3   \n",
       "\n",
       "          quest_duration  \n",
       "0 0 days 00:00:39.981998  \n",
       "1 0 days 00:00:40.527999  \n",
       "2 0 days 00:00:07.528000  "
      ]
     },
     "execution_count": 82,
     "metadata": {},
     "output_type": "execute_result"
    }
   ],
   "source": [
    "quest_df.head(3)"
   ]
  },
  {
   "cell_type": "code",
   "execution_count": 83,
   "id": "5c7adcb3",
   "metadata": {},
   "outputs": [
    {
     "data": {
      "text/plain": [
       "user_id               0\n",
       "start_time            0\n",
       "finish_time       20187\n",
       "quest_num             0\n",
       "quest_duration    20187\n",
       "dtype: int64"
      ]
     },
     "execution_count": 83,
     "metadata": {},
     "output_type": "execute_result"
    }
   ],
   "source": [
    "quest_df.isna().sum()"
   ]
  },
  {
   "cell_type": "markdown",
   "id": "1168e321",
   "metadata": {},
   "source": [
    "Для quest_df миссинги объясняются тем, что не проставлена дата окончания квеста"
   ]
  },
  {
   "cell_type": "code",
   "execution_count": 84,
   "id": "03364f2a",
   "metadata": {},
   "outputs": [
    {
     "data": {
      "text/html": [
       "<div>\n",
       "<style scoped>\n",
       "    .dataframe tbody tr th:only-of-type {\n",
       "        vertical-align: middle;\n",
       "    }\n",
       "\n",
       "    .dataframe tbody tr th {\n",
       "        vertical-align: top;\n",
       "    }\n",
       "\n",
       "    .dataframe thead th {\n",
       "        text-align: right;\n",
       "    }\n",
       "</style>\n",
       "<table border=\"1\" class=\"dataframe\">\n",
       "  <thead>\n",
       "    <tr style=\"text-align: right;\">\n",
       "      <th></th>\n",
       "      <th>user_id</th>\n",
       "      <th>quest_num</th>\n",
       "    </tr>\n",
       "  </thead>\n",
       "  <tbody>\n",
       "    <tr>\n",
       "      <th>count</th>\n",
       "      <td>4.231050e+05</td>\n",
       "      <td>423105.000000</td>\n",
       "    </tr>\n",
       "    <tr>\n",
       "      <th>mean</th>\n",
       "      <td>5.032511e+08</td>\n",
       "      <td>13.237653</td>\n",
       "    </tr>\n",
       "    <tr>\n",
       "      <th>std</th>\n",
       "      <td>2.871567e+08</td>\n",
       "      <td>10.414822</td>\n",
       "    </tr>\n",
       "    <tr>\n",
       "      <th>min</th>\n",
       "      <td>4.278000e+04</td>\n",
       "      <td>1.000000</td>\n",
       "    </tr>\n",
       "    <tr>\n",
       "      <th>25%</th>\n",
       "      <td>2.570938e+08</td>\n",
       "      <td>5.000000</td>\n",
       "    </tr>\n",
       "    <tr>\n",
       "      <th>50%</th>\n",
       "      <td>5.043223e+08</td>\n",
       "      <td>11.000000</td>\n",
       "    </tr>\n",
       "    <tr>\n",
       "      <th>75%</th>\n",
       "      <td>7.504463e+08</td>\n",
       "      <td>19.000000</td>\n",
       "    </tr>\n",
       "    <tr>\n",
       "      <th>max</th>\n",
       "      <td>9.998623e+08</td>\n",
       "      <td>78.000000</td>\n",
       "    </tr>\n",
       "  </tbody>\n",
       "</table>\n",
       "</div>"
      ],
      "text/plain": [
       "            user_id      quest_num\n",
       "count  4.231050e+05  423105.000000\n",
       "mean   5.032511e+08      13.237653\n",
       "std    2.871567e+08      10.414822\n",
       "min    4.278000e+04       1.000000\n",
       "25%    2.570938e+08       5.000000\n",
       "50%    5.043223e+08      11.000000\n",
       "75%    7.504463e+08      19.000000\n",
       "max    9.998623e+08      78.000000"
      ]
     },
     "execution_count": 84,
     "metadata": {},
     "output_type": "execute_result"
    }
   ],
   "source": [
    "quest_df.drop('quest_duration', axis = 1, inplace = True)\n",
    "quest_df.describe()"
   ]
  },
  {
   "cell_type": "code",
   "execution_count": 85,
   "id": "ff171a69",
   "metadata": {},
   "outputs": [
    {
     "data": {
      "text/plain": [
       "user_id                 int64\n",
       "start_time     datetime64[ns]\n",
       "finish_time    datetime64[ns]\n",
       "quest_num               int64\n",
       "dtype: object"
      ]
     },
     "execution_count": 85,
     "metadata": {},
     "output_type": "execute_result"
    }
   ],
   "source": [
    "quest_df.dtypes"
   ]
  },
  {
   "cell_type": "code",
   "execution_count": 86,
   "id": "d920b45d",
   "metadata": {},
   "outputs": [],
   "source": [
    "quest_df[['finish_time']] = quest_df[['finish_time']].fillna(0)"
   ]
  },
  {
   "cell_type": "code",
   "execution_count": 87,
   "id": "60ca1527",
   "metadata": {},
   "outputs": [
    {
     "data": {
      "text/html": [
       "<div>\n",
       "<style scoped>\n",
       "    .dataframe tbody tr th:only-of-type {\n",
       "        vertical-align: middle;\n",
       "    }\n",
       "\n",
       "    .dataframe tbody tr th {\n",
       "        vertical-align: top;\n",
       "    }\n",
       "\n",
       "    .dataframe thead th {\n",
       "        text-align: right;\n",
       "    }\n",
       "</style>\n",
       "<table border=\"1\" class=\"dataframe\">\n",
       "  <thead>\n",
       "    <tr style=\"text-align: right;\">\n",
       "      <th></th>\n",
       "      <th>user_id</th>\n",
       "      <th>start_time</th>\n",
       "      <th>finish_time</th>\n",
       "      <th>quest_num</th>\n",
       "    </tr>\n",
       "  </thead>\n",
       "  <tbody>\n",
       "    <tr>\n",
       "      <th>0</th>\n",
       "      <td>100052283</td>\n",
       "      <td>2020-10-11 08:04:05.260004</td>\n",
       "      <td>2020-10-11 08:04:45.242002</td>\n",
       "      <td>1</td>\n",
       "    </tr>\n",
       "    <tr>\n",
       "      <th>1</th>\n",
       "      <td>100052283</td>\n",
       "      <td>2020-10-11 08:04:45.242001</td>\n",
       "      <td>2020-10-11 08:05:25.770000</td>\n",
       "      <td>2</td>\n",
       "    </tr>\n",
       "    <tr>\n",
       "      <th>2</th>\n",
       "      <td>100052283</td>\n",
       "      <td>2020-10-11 08:05:51.739001</td>\n",
       "      <td>2020-10-11 08:05:59.267001</td>\n",
       "      <td>3</td>\n",
       "    </tr>\n",
       "  </tbody>\n",
       "</table>\n",
       "</div>"
      ],
      "text/plain": [
       "     user_id                 start_time                 finish_time  quest_num\n",
       "0  100052283 2020-10-11 08:04:05.260004  2020-10-11 08:04:45.242002          1\n",
       "1  100052283 2020-10-11 08:04:45.242001  2020-10-11 08:05:25.770000          2\n",
       "2  100052283 2020-10-11 08:05:51.739001  2020-10-11 08:05:59.267001          3"
      ]
     },
     "execution_count": 87,
     "metadata": {},
     "output_type": "execute_result"
    }
   ],
   "source": [
    "quest_df.head(3)"
   ]
  },
  {
   "cell_type": "markdown",
   "id": "95af9128",
   "metadata": {},
   "source": [
    "Создадим бинарный флаг для пользователей, у которых не поставлено время окончания квеста"
   ]
  },
  {
   "cell_type": "code",
   "execution_count": 88,
   "id": "9e07fc2a",
   "metadata": {},
   "outputs": [],
   "source": [
    "quest_df[\"last_quest_flag\"] = (quest_df[\"finish_time\"] == 0).astype(\"int\")"
   ]
  },
  {
   "cell_type": "code",
   "execution_count": 89,
   "id": "367e5e2c",
   "metadata": {},
   "outputs": [
    {
     "data": {
      "text/html": [
       "<div>\n",
       "<style scoped>\n",
       "    .dataframe tbody tr th:only-of-type {\n",
       "        vertical-align: middle;\n",
       "    }\n",
       "\n",
       "    .dataframe tbody tr th {\n",
       "        vertical-align: top;\n",
       "    }\n",
       "\n",
       "    .dataframe thead th {\n",
       "        text-align: right;\n",
       "    }\n",
       "</style>\n",
       "<table border=\"1\" class=\"dataframe\">\n",
       "  <thead>\n",
       "    <tr style=\"text-align: right;\">\n",
       "      <th></th>\n",
       "      <th>start_time</th>\n",
       "      <th>finish_time</th>\n",
       "      <th>quest_num</th>\n",
       "      <th>last_quest_flag</th>\n",
       "    </tr>\n",
       "    <tr>\n",
       "      <th>user_id</th>\n",
       "      <th></th>\n",
       "      <th></th>\n",
       "      <th></th>\n",
       "      <th></th>\n",
       "    </tr>\n",
       "  </thead>\n",
       "  <tbody>\n",
       "    <tr>\n",
       "      <th>100052283</th>\n",
       "      <td>2020-10-11 08:04:05.260004</td>\n",
       "      <td>2020-10-11 08:04:45.242002</td>\n",
       "      <td>1</td>\n",
       "      <td>0</td>\n",
       "    </tr>\n",
       "    <tr>\n",
       "      <th>100052283</th>\n",
       "      <td>2020-10-11 08:04:45.242001</td>\n",
       "      <td>2020-10-11 08:05:25.770000</td>\n",
       "      <td>2</td>\n",
       "      <td>0</td>\n",
       "    </tr>\n",
       "    <tr>\n",
       "      <th>100052283</th>\n",
       "      <td>2020-10-11 08:05:51.739001</td>\n",
       "      <td>2020-10-11 08:05:59.267001</td>\n",
       "      <td>3</td>\n",
       "      <td>0</td>\n",
       "    </tr>\n",
       "    <tr>\n",
       "      <th>100052283</th>\n",
       "      <td>2020-10-11 08:05:59.268001</td>\n",
       "      <td>0</td>\n",
       "      <td>4</td>\n",
       "      <td>1</td>\n",
       "    </tr>\n",
       "    <tr>\n",
       "      <th>100073694</th>\n",
       "      <td>2020-10-10 01:41:58.560001</td>\n",
       "      <td>2020-10-10 01:45:18.009002</td>\n",
       "      <td>1</td>\n",
       "      <td>0</td>\n",
       "    </tr>\n",
       "    <tr>\n",
       "      <th>...</th>\n",
       "      <td>...</td>\n",
       "      <td>...</td>\n",
       "      <td>...</td>\n",
       "      <td>...</td>\n",
       "    </tr>\n",
       "    <tr>\n",
       "      <th>999862290</th>\n",
       "      <td>2020-10-14 07:51:31.387001</td>\n",
       "      <td>2020-10-14 07:51:39.526001</td>\n",
       "      <td>6</td>\n",
       "      <td>0</td>\n",
       "    </tr>\n",
       "    <tr>\n",
       "      <th>999862290</th>\n",
       "      <td>2020-10-14 07:54:05.647001</td>\n",
       "      <td>2020-10-14 07:55:17.918001</td>\n",
       "      <td>7</td>\n",
       "      <td>0</td>\n",
       "    </tr>\n",
       "    <tr>\n",
       "      <th>999862290</th>\n",
       "      <td>2020-10-14 07:55:17.919001</td>\n",
       "      <td>2020-10-14 07:55:38.013001</td>\n",
       "      <td>8</td>\n",
       "      <td>0</td>\n",
       "    </tr>\n",
       "    <tr>\n",
       "      <th>999862290</th>\n",
       "      <td>2020-10-14 08:01:55.312000</td>\n",
       "      <td>2020-10-14 08:02:10.005002</td>\n",
       "      <td>9</td>\n",
       "      <td>0</td>\n",
       "    </tr>\n",
       "    <tr>\n",
       "      <th>999862290</th>\n",
       "      <td>2020-10-14 08:02:10.007001</td>\n",
       "      <td>0</td>\n",
       "      <td>10</td>\n",
       "      <td>1</td>\n",
       "    </tr>\n",
       "  </tbody>\n",
       "</table>\n",
       "<p>423105 rows × 4 columns</p>\n",
       "</div>"
      ],
      "text/plain": [
       "                          start_time                 finish_time  quest_num  \\\n",
       "user_id                                                                       \n",
       "100052283 2020-10-11 08:04:05.260004  2020-10-11 08:04:45.242002          1   \n",
       "100052283 2020-10-11 08:04:45.242001  2020-10-11 08:05:25.770000          2   \n",
       "100052283 2020-10-11 08:05:51.739001  2020-10-11 08:05:59.267001          3   \n",
       "100052283 2020-10-11 08:05:59.268001                           0          4   \n",
       "100073694 2020-10-10 01:41:58.560001  2020-10-10 01:45:18.009002          1   \n",
       "...                              ...                         ...        ...   \n",
       "999862290 2020-10-14 07:51:31.387001  2020-10-14 07:51:39.526001          6   \n",
       "999862290 2020-10-14 07:54:05.647001  2020-10-14 07:55:17.918001          7   \n",
       "999862290 2020-10-14 07:55:17.919001  2020-10-14 07:55:38.013001          8   \n",
       "999862290 2020-10-14 08:01:55.312000  2020-10-14 08:02:10.005002          9   \n",
       "999862290 2020-10-14 08:02:10.007001                           0         10   \n",
       "\n",
       "           last_quest_flag  \n",
       "user_id                     \n",
       "100052283                0  \n",
       "100052283                0  \n",
       "100052283                0  \n",
       "100052283                1  \n",
       "100073694                0  \n",
       "...                    ...  \n",
       "999862290                0  \n",
       "999862290                0  \n",
       "999862290                0  \n",
       "999862290                0  \n",
       "999862290                1  \n",
       "\n",
       "[423105 rows x 4 columns]"
      ]
     },
     "execution_count": 89,
     "metadata": {},
     "output_type": "execute_result"
    }
   ],
   "source": [
    "quest_df.set_index('user_id')"
   ]
  },
  {
   "cell_type": "markdown",
   "id": "2f03d9ee",
   "metadata": {},
   "source": [
    "Объединим данные по платежам и квестам, чтобы посмотреть выручку в разбивке по уровням "
   ]
  },
  {
   "cell_type": "code",
   "execution_count": 90,
   "id": "f5e3a654",
   "metadata": {},
   "outputs": [],
   "source": [
    "payment_df.set_index('user_id', inplace = True)"
   ]
  },
  {
   "cell_type": "code",
   "execution_count": 91,
   "id": "29137665",
   "metadata": {},
   "outputs": [
    {
     "data": {
      "text/html": [
       "<div>\n",
       "<style scoped>\n",
       "    .dataframe tbody tr th:only-of-type {\n",
       "        vertical-align: middle;\n",
       "    }\n",
       "\n",
       "    .dataframe tbody tr th {\n",
       "        vertical-align: top;\n",
       "    }\n",
       "\n",
       "    .dataframe thead th {\n",
       "        text-align: right;\n",
       "    }\n",
       "</style>\n",
       "<table border=\"1\" class=\"dataframe\">\n",
       "  <thead>\n",
       "    <tr style=\"text-align: right;\">\n",
       "      <th></th>\n",
       "      <th>time</th>\n",
       "      <th>amount</th>\n",
       "    </tr>\n",
       "    <tr>\n",
       "      <th>user_id</th>\n",
       "      <th></th>\n",
       "      <th></th>\n",
       "    </tr>\n",
       "  </thead>\n",
       "  <tbody>\n",
       "    <tr>\n",
       "      <th>108116306</th>\n",
       "      <td>2020-10-12 12:56:12.634</td>\n",
       "      <td>0.151908</td>\n",
       "    </tr>\n",
       "    <tr>\n",
       "      <th>110213686</th>\n",
       "      <td>2020-10-14 16:48:43.059</td>\n",
       "      <td>0.304580</td>\n",
       "    </tr>\n",
       "    <tr>\n",
       "      <th>110213686</th>\n",
       "      <td>2020-10-16 04:00:10.547</td>\n",
       "      <td>3.816031</td>\n",
       "    </tr>\n",
       "    <tr>\n",
       "      <th>110213686</th>\n",
       "      <td>2020-10-16 14:57:21.083</td>\n",
       "      <td>1.144275</td>\n",
       "    </tr>\n",
       "    <tr>\n",
       "      <th>112803920</th>\n",
       "      <td>2020-10-15 17:48:57.329</td>\n",
       "      <td>0.151908</td>\n",
       "    </tr>\n",
       "    <tr>\n",
       "      <th>...</th>\n",
       "      <td>...</td>\n",
       "      <td>...</td>\n",
       "    </tr>\n",
       "    <tr>\n",
       "      <th>987375864</th>\n",
       "      <td>2020-10-14 09:47:55.399</td>\n",
       "      <td>0.075573</td>\n",
       "    </tr>\n",
       "    <tr>\n",
       "      <th>993353406</th>\n",
       "      <td>2020-10-18 20:45:31.362</td>\n",
       "      <td>0.304580</td>\n",
       "    </tr>\n",
       "    <tr>\n",
       "      <th>993353406</th>\n",
       "      <td>2020-10-18 21:09:18.642</td>\n",
       "      <td>0.304580</td>\n",
       "    </tr>\n",
       "    <tr>\n",
       "      <th>993799116</th>\n",
       "      <td>2020-10-13 13:24:41.889</td>\n",
       "      <td>0.075573</td>\n",
       "    </tr>\n",
       "    <tr>\n",
       "      <th>997721742</th>\n",
       "      <td>2020-10-12 21:28:57.195</td>\n",
       "      <td>0.151908</td>\n",
       "    </tr>\n",
       "  </tbody>\n",
       "</table>\n",
       "<p>700 rows × 2 columns</p>\n",
       "</div>"
      ],
      "text/plain": [
       "                             time    amount\n",
       "user_id                                    \n",
       "108116306 2020-10-12 12:56:12.634  0.151908\n",
       "110213686 2020-10-14 16:48:43.059  0.304580\n",
       "110213686 2020-10-16 04:00:10.547  3.816031\n",
       "110213686 2020-10-16 14:57:21.083  1.144275\n",
       "112803920 2020-10-15 17:48:57.329  0.151908\n",
       "...                           ...       ...\n",
       "987375864 2020-10-14 09:47:55.399  0.075573\n",
       "993353406 2020-10-18 20:45:31.362  0.304580\n",
       "993353406 2020-10-18 21:09:18.642  0.304580\n",
       "993799116 2020-10-13 13:24:41.889  0.075573\n",
       "997721742 2020-10-12 21:28:57.195  0.151908\n",
       "\n",
       "[700 rows x 2 columns]"
      ]
     },
     "execution_count": 91,
     "metadata": {},
     "output_type": "execute_result"
    }
   ],
   "source": [
    "payments = payment_df[['time', 'amount']]\n",
    "payments"
   ]
  },
  {
   "cell_type": "code",
   "execution_count": 92,
   "id": "65921414",
   "metadata": {},
   "outputs": [
    {
     "data": {
      "text/html": [
       "<div>\n",
       "<style scoped>\n",
       "    .dataframe tbody tr th:only-of-type {\n",
       "        vertical-align: middle;\n",
       "    }\n",
       "\n",
       "    .dataframe tbody tr th {\n",
       "        vertical-align: top;\n",
       "    }\n",
       "\n",
       "    .dataframe thead th {\n",
       "        text-align: right;\n",
       "    }\n",
       "</style>\n",
       "<table border=\"1\" class=\"dataframe\">\n",
       "  <thead>\n",
       "    <tr style=\"text-align: right;\">\n",
       "      <th></th>\n",
       "      <th>start_time</th>\n",
       "      <th>finish_time</th>\n",
       "      <th>quest_num</th>\n",
       "      <th>last_quest_flag</th>\n",
       "      <th>time</th>\n",
       "      <th>amount</th>\n",
       "    </tr>\n",
       "    <tr>\n",
       "      <th>user_id</th>\n",
       "      <th></th>\n",
       "      <th></th>\n",
       "      <th></th>\n",
       "      <th></th>\n",
       "      <th></th>\n",
       "      <th></th>\n",
       "    </tr>\n",
       "  </thead>\n",
       "  <tbody>\n",
       "    <tr>\n",
       "      <th>108116306</th>\n",
       "      <td>2020-10-12 12:04:29.099000</td>\n",
       "      <td>2020-10-12 12:04:57.623001</td>\n",
       "      <td>1</td>\n",
       "      <td>0</td>\n",
       "      <td>2020-10-12 12:56:12.634</td>\n",
       "      <td>0.151908</td>\n",
       "    </tr>\n",
       "    <tr>\n",
       "      <th>108116306</th>\n",
       "      <td>2020-10-12 12:04:57.623000</td>\n",
       "      <td>2020-10-12 12:05:44.108001</td>\n",
       "      <td>2</td>\n",
       "      <td>0</td>\n",
       "      <td>2020-10-12 12:56:12.634</td>\n",
       "      <td>0.151908</td>\n",
       "    </tr>\n",
       "    <tr>\n",
       "      <th>108116306</th>\n",
       "      <td>2020-10-12 12:06:02.590001</td>\n",
       "      <td>2020-10-12 12:06:09.592000</td>\n",
       "      <td>3</td>\n",
       "      <td>0</td>\n",
       "      <td>2020-10-12 12:56:12.634</td>\n",
       "      <td>0.151908</td>\n",
       "    </tr>\n",
       "    <tr>\n",
       "      <th>108116306</th>\n",
       "      <td>2020-10-12 12:06:09.592002</td>\n",
       "      <td>2020-10-12 12:10:22.096000</td>\n",
       "      <td>4</td>\n",
       "      <td>0</td>\n",
       "      <td>2020-10-12 12:56:12.634</td>\n",
       "      <td>0.151908</td>\n",
       "    </tr>\n",
       "    <tr>\n",
       "      <th>108116306</th>\n",
       "      <td>2020-10-12 12:10:41.591002</td>\n",
       "      <td>2020-10-12 12:13:01.589002</td>\n",
       "      <td>5</td>\n",
       "      <td>0</td>\n",
       "      <td>2020-10-12 12:56:12.634</td>\n",
       "      <td>0.151908</td>\n",
       "    </tr>\n",
       "    <tr>\n",
       "      <th>108116306</th>\n",
       "      <td>2020-10-12 12:13:01.589004</td>\n",
       "      <td>2020-10-12 12:13:11.090001</td>\n",
       "      <td>6</td>\n",
       "      <td>0</td>\n",
       "      <td>2020-10-12 12:56:12.634</td>\n",
       "      <td>0.151908</td>\n",
       "    </tr>\n",
       "    <tr>\n",
       "      <th>108116306</th>\n",
       "      <td>2020-10-12 12:15:20.591003</td>\n",
       "      <td>2020-10-12 12:16:23.094000</td>\n",
       "      <td>7</td>\n",
       "      <td>0</td>\n",
       "      <td>2020-10-12 12:56:12.634</td>\n",
       "      <td>0.151908</td>\n",
       "    </tr>\n",
       "    <tr>\n",
       "      <th>108116306</th>\n",
       "      <td>2020-10-12 12:16:23.094002</td>\n",
       "      <td>2020-10-12 12:16:53.600001</td>\n",
       "      <td>8</td>\n",
       "      <td>0</td>\n",
       "      <td>2020-10-12 12:56:12.634</td>\n",
       "      <td>0.151908</td>\n",
       "    </tr>\n",
       "    <tr>\n",
       "      <th>108116306</th>\n",
       "      <td>2020-10-12 12:21:45.099003</td>\n",
       "      <td>2020-10-12 12:21:59.098002</td>\n",
       "      <td>9</td>\n",
       "      <td>0</td>\n",
       "      <td>2020-10-12 12:56:12.634</td>\n",
       "      <td>0.151908</td>\n",
       "    </tr>\n",
       "    <tr>\n",
       "      <th>108116306</th>\n",
       "      <td>2020-10-12 12:21:59.098004</td>\n",
       "      <td>2020-10-12 12:23:20.092000</td>\n",
       "      <td>10</td>\n",
       "      <td>0</td>\n",
       "      <td>2020-10-12 12:56:12.634</td>\n",
       "      <td>0.151908</td>\n",
       "    </tr>\n",
       "  </tbody>\n",
       "</table>\n",
       "</div>"
      ],
      "text/plain": [
       "                          start_time                 finish_time  quest_num  \\\n",
       "user_id                                                                       \n",
       "108116306 2020-10-12 12:04:29.099000  2020-10-12 12:04:57.623001          1   \n",
       "108116306 2020-10-12 12:04:57.623000  2020-10-12 12:05:44.108001          2   \n",
       "108116306 2020-10-12 12:06:02.590001  2020-10-12 12:06:09.592000          3   \n",
       "108116306 2020-10-12 12:06:09.592002  2020-10-12 12:10:22.096000          4   \n",
       "108116306 2020-10-12 12:10:41.591002  2020-10-12 12:13:01.589002          5   \n",
       "108116306 2020-10-12 12:13:01.589004  2020-10-12 12:13:11.090001          6   \n",
       "108116306 2020-10-12 12:15:20.591003  2020-10-12 12:16:23.094000          7   \n",
       "108116306 2020-10-12 12:16:23.094002  2020-10-12 12:16:53.600001          8   \n",
       "108116306 2020-10-12 12:21:45.099003  2020-10-12 12:21:59.098002          9   \n",
       "108116306 2020-10-12 12:21:59.098004  2020-10-12 12:23:20.092000         10   \n",
       "\n",
       "           last_quest_flag                    time    amount  \n",
       "user_id                                                       \n",
       "108116306                0 2020-10-12 12:56:12.634  0.151908  \n",
       "108116306                0 2020-10-12 12:56:12.634  0.151908  \n",
       "108116306                0 2020-10-12 12:56:12.634  0.151908  \n",
       "108116306                0 2020-10-12 12:56:12.634  0.151908  \n",
       "108116306                0 2020-10-12 12:56:12.634  0.151908  \n",
       "108116306                0 2020-10-12 12:56:12.634  0.151908  \n",
       "108116306                0 2020-10-12 12:56:12.634  0.151908  \n",
       "108116306                0 2020-10-12 12:56:12.634  0.151908  \n",
       "108116306                0 2020-10-12 12:56:12.634  0.151908  \n",
       "108116306                0 2020-10-12 12:56:12.634  0.151908  "
      ]
     },
     "execution_count": 92,
     "metadata": {},
     "output_type": "execute_result"
    }
   ],
   "source": [
    "merged_df = quest_df.set_index('user_id').join(payments, on = 'user_id', how = 'right')\n",
    "merged_df.head(10)"
   ]
  },
  {
   "cell_type": "code",
   "execution_count": 93,
   "id": "c37dfc57",
   "metadata": {},
   "outputs": [
    {
     "data": {
      "text/html": [
       "<div>\n",
       "<style scoped>\n",
       "    .dataframe tbody tr th:only-of-type {\n",
       "        vertical-align: middle;\n",
       "    }\n",
       "\n",
       "    .dataframe tbody tr th {\n",
       "        vertical-align: top;\n",
       "    }\n",
       "\n",
       "    .dataframe thead tr th {\n",
       "        text-align: left;\n",
       "    }\n",
       "\n",
       "    .dataframe thead tr:last-of-type th {\n",
       "        text-align: right;\n",
       "    }\n",
       "</style>\n",
       "<table border=\"1\" class=\"dataframe\">\n",
       "  <thead>\n",
       "    <tr>\n",
       "      <th></th>\n",
       "      <th colspan=\"2\" halign=\"left\">amount</th>\n",
       "    </tr>\n",
       "    <tr>\n",
       "      <th></th>\n",
       "      <th>count</th>\n",
       "      <th>mean</th>\n",
       "    </tr>\n",
       "    <tr>\n",
       "      <th>quest_num</th>\n",
       "      <th></th>\n",
       "      <th></th>\n",
       "    </tr>\n",
       "  </thead>\n",
       "  <tbody>\n",
       "    <tr>\n",
       "      <th>1</th>\n",
       "      <td>700</td>\n",
       "      <td>0.545342</td>\n",
       "    </tr>\n",
       "    <tr>\n",
       "      <th>2</th>\n",
       "      <td>700</td>\n",
       "      <td>0.545342</td>\n",
       "    </tr>\n",
       "    <tr>\n",
       "      <th>3</th>\n",
       "      <td>700</td>\n",
       "      <td>0.545342</td>\n",
       "    </tr>\n",
       "    <tr>\n",
       "      <th>4</th>\n",
       "      <td>700</td>\n",
       "      <td>0.545342</td>\n",
       "    </tr>\n",
       "    <tr>\n",
       "      <th>5</th>\n",
       "      <td>700</td>\n",
       "      <td>0.545342</td>\n",
       "    </tr>\n",
       "    <tr>\n",
       "      <th>...</th>\n",
       "      <td>...</td>\n",
       "      <td>...</td>\n",
       "    </tr>\n",
       "    <tr>\n",
       "      <th>74</th>\n",
       "      <td>142</td>\n",
       "      <td>0.987233</td>\n",
       "    </tr>\n",
       "    <tr>\n",
       "      <th>75</th>\n",
       "      <td>142</td>\n",
       "      <td>0.987233</td>\n",
       "    </tr>\n",
       "    <tr>\n",
       "      <th>76</th>\n",
       "      <td>65</td>\n",
       "      <td>1.207681</td>\n",
       "    </tr>\n",
       "    <tr>\n",
       "      <th>77</th>\n",
       "      <td>60</td>\n",
       "      <td>1.282939</td>\n",
       "    </tr>\n",
       "    <tr>\n",
       "      <th>78</th>\n",
       "      <td>60</td>\n",
       "      <td>1.282939</td>\n",
       "    </tr>\n",
       "  </tbody>\n",
       "</table>\n",
       "<p>78 rows × 2 columns</p>\n",
       "</div>"
      ],
      "text/plain": [
       "          amount          \n",
       "           count      mean\n",
       "quest_num                 \n",
       "1            700  0.545342\n",
       "2            700  0.545342\n",
       "3            700  0.545342\n",
       "4            700  0.545342\n",
       "5            700  0.545342\n",
       "...          ...       ...\n",
       "74           142  0.987233\n",
       "75           142  0.987233\n",
       "76            65  1.207681\n",
       "77            60  1.282939\n",
       "78            60  1.282939\n",
       "\n",
       "[78 rows x 2 columns]"
      ]
     },
     "execution_count": 93,
     "metadata": {},
     "output_type": "execute_result"
    }
   ],
   "source": [
    "merged_df.groupby('quest_num')[['amount']].agg(['count', 'mean'])"
   ]
  },
  {
   "cell_type": "markdown",
   "id": "f6cd0536",
   "metadata": {},
   "source": [
    "Визуализируем количество игроков, прошедших квесты\n",
    "\n",
    "75% перцентиль quest_num составил 19, поэтому для более наглядной визуализации воронки ограничимся 19 уровнем "
   ]
  },
  {
   "cell_type": "code",
   "execution_count": 94,
   "id": "d1b7f068",
   "metadata": {},
   "outputs": [
    {
     "data": {
      "image/png": "[encoded data removed]",
      "text/plain": [
       "<Figure size 640x480 with 1 Axes>"
      ]
     },
     "metadata": {},
     "output_type": "display_data"
    }
   ],
   "source": [
    "quest_df.loc[quest_df[\"quest_num\"] <= 19][\"quest_num\"].value_counts().plot(kind = 'bar')\n",
    "plt.title('Конверсия по уровням')\n",
    "plt.show()"
   ]
  },
  {
   "cell_type": "markdown",
   "id": "ee49d350",
   "metadata": {},
   "source": [
    "Мы видим резкое снижение в числе игроков, перешедших с 1 на 2 уровень, со 2 на 3, в начале воронки, в целом, это закономерный результат. Заметное число игроков отваливается при переходе с 4 на 5 уровень. Это может быть обусловлено высокой сложностью уровня, в таком случае может иметь смысл разбить его на несколько. Либо замедлением игрового прогресса: в начале игры идёт буст, затем он отходит, игрока нужно как-то мотивировать, например, отправить ему случайный подарок в виде энергии"
   ]
  }
 ],
 "metadata": {
  "kernelspec": {
   "display_name": "Python 3 (ipykernel)",
   "language": "python",
   "name": "python3"
  },
  "language_info": {
   "codemirror_mode": {
    "name": "ipython",
    "version": 3
   },
   "file_extension": ".py",
   "mimetype": "text/x-python",
   "name": "python",
   "nbconvert_exporter": "python",
   "pygments_lexer": "ipython3",
   "version": "3.7.6"
  }
 },
 "nbformat": 4,
 "nbformat_minor": 5
}
